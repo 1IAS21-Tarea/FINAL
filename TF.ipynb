{
 "cells": [
  {
   "cell_type": "markdown",
   "id": "3938082c",
   "metadata": {},
   "source": [
    "## Part I\n",
    "### Exercise 1\n",
    "1. Use two maps of points.\n",
    "\n",
    "2. Compute the distance matrix for both maps.\n",
    "\n",
    "3. Select one row of the distance matrix, and plot the two points with the minimal distance on top of the country of your choosing."
   ]
  },
  {
   "cell_type": "code",
   "execution_count": 25,
   "id": "8438818a",
   "metadata": {},
   "outputs": [
    {
     "data": {
      "text/plain": [
       "['country', 'cities', 'rivers']"
      ]
     },
     "execution_count": 25,
     "metadata": {},
     "output_type": "execute_result"
    }
   ],
   "source": [
    "from  fiona import listlayers\n",
    "import os\n",
    "\n",
    "turkeyMaps=os.path.join('maps','turkeyMaps_5636.gpkg')\n",
    "\n",
    "#layers in maps\n",
    "listlayers(turkeyMaps)"
   ]
  }
 ],
 "metadata": {
  "kernelspec": {
   "display_name": "Python 3 (ipykernel)",
   "language": "python",
   "name": "python3"
  },
  "language_info": {
   "codemirror_mode": {
    "name": "ipython",
    "version": 3
   },
   "file_extension": ".py",
   "mimetype": "text/x-python",
   "name": "python",
   "nbconvert_exporter": "python",
   "pygments_lexer": "ipython3",
   "version": "3.11.5"
  }
 },
 "nbformat": 4,
 "nbformat_minor": 5
}
